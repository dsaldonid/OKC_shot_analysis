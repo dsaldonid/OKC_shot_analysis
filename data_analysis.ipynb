{
 "cells": [
  {
   "cell_type": "markdown",
   "metadata": {},
   "source": [
    "OKC DATA SOFTWARE ENGINEER PROJECT \n",
    "BY DIEGO SALDONID"
   ]
  },
  {
   "cell_type": "code",
   "execution_count": 37,
   "metadata": {},
   "outputs": [],
   "source": [
    "import pandas as pd\n",
    "import math"
   ]
  },
  {
   "cell_type": "code",
   "execution_count": 38,
   "metadata": {},
   "outputs": [],
   "source": [
    "#load data from csv to dataframe in pandas\n",
    "df = pd.read_csv('shots_data.csv')"
   ]
  },
  {
   "cell_type": "code",
   "execution_count": 39,
   "metadata": {},
   "outputs": [
    {
     "data": {
      "text/html": [
       "<div>\n",
       "<style scoped>\n",
       "    .dataframe tbody tr th:only-of-type {\n",
       "        vertical-align: middle;\n",
       "    }\n",
       "\n",
       "    .dataframe tbody tr th {\n",
       "        vertical-align: top;\n",
       "    }\n",
       "\n",
       "    .dataframe thead th {\n",
       "        text-align: right;\n",
       "    }\n",
       "</style>\n",
       "<table border=\"1\" class=\"dataframe\">\n",
       "  <thead>\n",
       "    <tr style=\"text-align: right;\">\n",
       "      <th></th>\n",
       "      <th>team</th>\n",
       "      <th>x</th>\n",
       "      <th>y</th>\n",
       "      <th>fgmade</th>\n",
       "    </tr>\n",
       "  </thead>\n",
       "  <tbody>\n",
       "    <tr>\n",
       "      <th>0</th>\n",
       "      <td>Team A</td>\n",
       "      <td>-23.1</td>\n",
       "      <td>3.5</td>\n",
       "      <td>0</td>\n",
       "    </tr>\n",
       "    <tr>\n",
       "      <th>1</th>\n",
       "      <td>Team A</td>\n",
       "      <td>0.0</td>\n",
       "      <td>25.1</td>\n",
       "      <td>1</td>\n",
       "    </tr>\n",
       "    <tr>\n",
       "      <th>2</th>\n",
       "      <td>Team A</td>\n",
       "      <td>0.5</td>\n",
       "      <td>1.0</td>\n",
       "      <td>1</td>\n",
       "    </tr>\n",
       "    <tr>\n",
       "      <th>3</th>\n",
       "      <td>Team A</td>\n",
       "      <td>-5.6</td>\n",
       "      <td>5.2</td>\n",
       "      <td>0</td>\n",
       "    </tr>\n",
       "    <tr>\n",
       "      <th>4</th>\n",
       "      <td>Team A</td>\n",
       "      <td>4.0</td>\n",
       "      <td>14.5</td>\n",
       "      <td>1</td>\n",
       "    </tr>\n",
       "    <tr>\n",
       "      <th>...</th>\n",
       "      <td>...</td>\n",
       "      <td>...</td>\n",
       "      <td>...</td>\n",
       "      <td>...</td>\n",
       "    </tr>\n",
       "    <tr>\n",
       "      <th>555</th>\n",
       "      <td>Team B</td>\n",
       "      <td>7.8</td>\n",
       "      <td>24.7</td>\n",
       "      <td>0</td>\n",
       "    </tr>\n",
       "    <tr>\n",
       "      <th>556</th>\n",
       "      <td>Team B</td>\n",
       "      <td>10.1</td>\n",
       "      <td>1.4</td>\n",
       "      <td>1</td>\n",
       "    </tr>\n",
       "    <tr>\n",
       "      <th>557</th>\n",
       "      <td>Team B</td>\n",
       "      <td>-17.8</td>\n",
       "      <td>-0.1</td>\n",
       "      <td>0</td>\n",
       "    </tr>\n",
       "    <tr>\n",
       "      <th>558</th>\n",
       "      <td>Team B</td>\n",
       "      <td>22.6</td>\n",
       "      <td>2.9</td>\n",
       "      <td>0</td>\n",
       "    </tr>\n",
       "    <tr>\n",
       "      <th>559</th>\n",
       "      <td>Team B</td>\n",
       "      <td>-0.7</td>\n",
       "      <td>14.7</td>\n",
       "      <td>1</td>\n",
       "    </tr>\n",
       "  </tbody>\n",
       "</table>\n",
       "<p>560 rows × 4 columns</p>\n",
       "</div>"
      ],
      "text/plain": [
       "       team     x     y  fgmade\n",
       "0    Team A -23.1   3.5       0\n",
       "1    Team A   0.0  25.1       1\n",
       "2    Team A   0.5   1.0       1\n",
       "3    Team A  -5.6   5.2       0\n",
       "4    Team A   4.0  14.5       1\n",
       "..      ...   ...   ...     ...\n",
       "555  Team B   7.8  24.7       0\n",
       "556  Team B  10.1   1.4       1\n",
       "557  Team B -17.8  -0.1       0\n",
       "558  Team B  22.6   2.9       0\n",
       "559  Team B  -0.7  14.7       1\n",
       "\n",
       "[560 rows x 4 columns]"
      ]
     },
     "execution_count": 39,
     "metadata": {},
     "output_type": "execute_result"
    }
   ],
   "source": [
    "#visualize dataframe\n",
    "df"
   ]
  },
  {
   "cell_type": "code",
   "execution_count": 40,
   "metadata": {},
   "outputs": [],
   "source": [
    "#create squared x and y columns to calculate non-corner threes\n",
    "df['x_sqd'] = df['x'].pow(2)\n",
    "df['y_sqd'] = df['y'].pow(2)"
   ]
  },
  {
   "cell_type": "code",
   "execution_count": 41,
   "metadata": {},
   "outputs": [],
   "source": [
    "#create column with distance from basketball hoop\n",
    "df['dist'] = (df['x_sqd'] + df['y_sqd'])**(1/2)"
   ]
  },
  {
   "cell_type": "code",
   "execution_count": 42,
   "metadata": {},
   "outputs": [
    {
     "data": {
      "text/html": [
       "<div>\n",
       "<style scoped>\n",
       "    .dataframe tbody tr th:only-of-type {\n",
       "        vertical-align: middle;\n",
       "    }\n",
       "\n",
       "    .dataframe tbody tr th {\n",
       "        vertical-align: top;\n",
       "    }\n",
       "\n",
       "    .dataframe thead th {\n",
       "        text-align: right;\n",
       "    }\n",
       "</style>\n",
       "<table border=\"1\" class=\"dataframe\">\n",
       "  <thead>\n",
       "    <tr style=\"text-align: right;\">\n",
       "      <th></th>\n",
       "      <th>team</th>\n",
       "      <th>x</th>\n",
       "      <th>y</th>\n",
       "      <th>fgmade</th>\n",
       "      <th>x_sqd</th>\n",
       "      <th>y_sqd</th>\n",
       "      <th>dist</th>\n",
       "    </tr>\n",
       "  </thead>\n",
       "  <tbody>\n",
       "    <tr>\n",
       "      <th>0</th>\n",
       "      <td>Team A</td>\n",
       "      <td>-23.1</td>\n",
       "      <td>3.5</td>\n",
       "      <td>0</td>\n",
       "      <td>533.61</td>\n",
       "      <td>12.25</td>\n",
       "      <td>23.363647</td>\n",
       "    </tr>\n",
       "    <tr>\n",
       "      <th>1</th>\n",
       "      <td>Team A</td>\n",
       "      <td>0.0</td>\n",
       "      <td>25.1</td>\n",
       "      <td>1</td>\n",
       "      <td>0.00</td>\n",
       "      <td>630.01</td>\n",
       "      <td>25.100000</td>\n",
       "    </tr>\n",
       "    <tr>\n",
       "      <th>2</th>\n",
       "      <td>Team A</td>\n",
       "      <td>0.5</td>\n",
       "      <td>1.0</td>\n",
       "      <td>1</td>\n",
       "      <td>0.25</td>\n",
       "      <td>1.00</td>\n",
       "      <td>1.118034</td>\n",
       "    </tr>\n",
       "    <tr>\n",
       "      <th>3</th>\n",
       "      <td>Team A</td>\n",
       "      <td>-5.6</td>\n",
       "      <td>5.2</td>\n",
       "      <td>0</td>\n",
       "      <td>31.36</td>\n",
       "      <td>27.04</td>\n",
       "      <td>7.641989</td>\n",
       "    </tr>\n",
       "    <tr>\n",
       "      <th>4</th>\n",
       "      <td>Team A</td>\n",
       "      <td>4.0</td>\n",
       "      <td>14.5</td>\n",
       "      <td>1</td>\n",
       "      <td>16.00</td>\n",
       "      <td>210.25</td>\n",
       "      <td>15.041609</td>\n",
       "    </tr>\n",
       "    <tr>\n",
       "      <th>...</th>\n",
       "      <td>...</td>\n",
       "      <td>...</td>\n",
       "      <td>...</td>\n",
       "      <td>...</td>\n",
       "      <td>...</td>\n",
       "      <td>...</td>\n",
       "      <td>...</td>\n",
       "    </tr>\n",
       "    <tr>\n",
       "      <th>555</th>\n",
       "      <td>Team B</td>\n",
       "      <td>7.8</td>\n",
       "      <td>24.7</td>\n",
       "      <td>0</td>\n",
       "      <td>60.84</td>\n",
       "      <td>610.09</td>\n",
       "      <td>25.902316</td>\n",
       "    </tr>\n",
       "    <tr>\n",
       "      <th>556</th>\n",
       "      <td>Team B</td>\n",
       "      <td>10.1</td>\n",
       "      <td>1.4</td>\n",
       "      <td>1</td>\n",
       "      <td>102.01</td>\n",
       "      <td>1.96</td>\n",
       "      <td>10.196568</td>\n",
       "    </tr>\n",
       "    <tr>\n",
       "      <th>557</th>\n",
       "      <td>Team B</td>\n",
       "      <td>-17.8</td>\n",
       "      <td>-0.1</td>\n",
       "      <td>0</td>\n",
       "      <td>316.84</td>\n",
       "      <td>0.01</td>\n",
       "      <td>17.800281</td>\n",
       "    </tr>\n",
       "    <tr>\n",
       "      <th>558</th>\n",
       "      <td>Team B</td>\n",
       "      <td>22.6</td>\n",
       "      <td>2.9</td>\n",
       "      <td>0</td>\n",
       "      <td>510.76</td>\n",
       "      <td>8.41</td>\n",
       "      <td>22.785302</td>\n",
       "    </tr>\n",
       "    <tr>\n",
       "      <th>559</th>\n",
       "      <td>Team B</td>\n",
       "      <td>-0.7</td>\n",
       "      <td>14.7</td>\n",
       "      <td>1</td>\n",
       "      <td>0.49</td>\n",
       "      <td>216.09</td>\n",
       "      <td>14.716657</td>\n",
       "    </tr>\n",
       "  </tbody>\n",
       "</table>\n",
       "<p>560 rows × 7 columns</p>\n",
       "</div>"
      ],
      "text/plain": [
       "       team     x     y  fgmade   x_sqd   y_sqd       dist\n",
       "0    Team A -23.1   3.5       0  533.61   12.25  23.363647\n",
       "1    Team A   0.0  25.1       1    0.00  630.01  25.100000\n",
       "2    Team A   0.5   1.0       1    0.25    1.00   1.118034\n",
       "3    Team A  -5.6   5.2       0   31.36   27.04   7.641989\n",
       "4    Team A   4.0  14.5       1   16.00  210.25  15.041609\n",
       "..      ...   ...   ...     ...     ...     ...        ...\n",
       "555  Team B   7.8  24.7       0   60.84  610.09  25.902316\n",
       "556  Team B  10.1   1.4       1  102.01    1.96  10.196568\n",
       "557  Team B -17.8  -0.1       0  316.84    0.01  17.800281\n",
       "558  Team B  22.6   2.9       0  510.76    8.41  22.785302\n",
       "559  Team B  -0.7  14.7       1    0.49  216.09  14.716657\n",
       "\n",
       "[560 rows x 7 columns]"
      ]
     },
     "execution_count": 42,
     "metadata": {},
     "output_type": "execute_result"
    }
   ],
   "source": [
    "#df now has columns with x and y squared and total dist from basket\n",
    "df"
   ]
  },
  {
   "cell_type": "code",
   "execution_count": 48,
   "metadata": {},
   "outputs": [],
   "source": [
    "def get_team_fg(df,team):\n",
    "    return df[df['team'] == team]"
   ]
  },
  {
   "cell_type": "code",
   "execution_count": 49,
   "metadata": {},
   "outputs": [],
   "source": [
    "def calculate_noncorner_threes(df):\n",
    "    #to find approximation for beginning of arc I used pythagorean theorem to calculate the y coordinate (approx. 8.95ft)\n",
    "    #non-corner threes are defined by either:\n",
    "    # 1) x,y coordinates [x<=-22 or x>=22, y>7.8] (i.e. area before arc)\n",
    "    # 2) 23.75 ft away from the basket (Euclidean distance)\n",
    "    return df.loc[(((df['x'] >= 22) | (df['x'] <= -22)) & (df['y']>7.8)) | ((df['dist'] >= 23.75) & (df['y']>8.95))]"
   ]
  },
  {
   "cell_type": "code",
   "execution_count": 50,
   "metadata": {},
   "outputs": [],
   "source": [
    "def calculate_corner_threes(df):\n",
    "    #corner threes are defined by x,y coordinates [x<=-22 or x>=22, y<=7.8]\n",
    "    return df[(df['y'] <= 7.8) & ((df['x'] >= 22) |(df['x'] <= -22))]"
   ]
  },
  {
   "cell_type": "code",
   "execution_count": 51,
   "metadata": {},
   "outputs": [],
   "source": [
    "def calculate_two_pointers(df):\n",
    "    #two pointers are defined by shots by the coordinates [-22<x<22 , y < 8.95] \n",
    "    #and with distance less than 23.75 feet and y>8.95 (shots within arc)\n",
    "    return df.loc[((df['x'] < 22) & (df['x'] >= 0) | (df['x'] > -22) & (df['x'] <= 0)) & (df['y']<8.95) |((df['y'] > 8.95) & (df['dist'] < 23.75))]\n"
   ]
  },
  {
   "cell_type": "code",
   "execution_count": 52,
   "metadata": {},
   "outputs": [],
   "source": [
    "def calculate_eFG(fgm,threes_made,fga):\n",
    "    egper_float = ((fgm +(.5*threes_made))/fga) *100\n",
    "\n",
    "    #round to nearest hundreth\n",
    "    return round(egper_float,2)"
   ]
  },
  {
   "cell_type": "code",
   "execution_count": 53,
   "metadata": {},
   "outputs": [],
   "source": [
    "def calculate_fgper(fgm,fga):\n",
    "    fg_float = (fgm/fga) * 100\n",
    "    #round to nearest hundreth\n",
    "    return round(fg_float,2)"
   ]
  },
  {
   "cell_type": "code",
   "execution_count": 54,
   "metadata": {},
   "outputs": [],
   "source": [
    "def calculate_made_plus_total(df):\n",
    "    #.shape returns a tuple with the rows and columns, respectively\n",
    "    total_shots = df.shape[0]\n",
    "\n",
    "    #grab all row where fgmade equals 1\n",
    "    made_shots = df.loc[df['fgmade'] == 1].shape[0]\n",
    "\n",
    "    return (total_shots,made_shots)\n"
   ]
  },
  {
   "cell_type": "code",
   "execution_count": 55,
   "metadata": {},
   "outputs": [],
   "source": [
    "#seperate teams by name\n",
    "team_a_fgs = get_team_fg(df,'Team A')\n",
    "team_b_fgs = get_team_fg(df,'Team B')"
   ]
  },
  {
   "cell_type": "code",
   "execution_count": 56,
   "metadata": {},
   "outputs": [],
   "source": [
    "#calculate each team's corner three efg%\n",
    "team_a_corner_3s = calculate_corner_threes(team_a_fgs)\n",
    "team_a_corner_3s_total, team_a_corner_3s_made = calculate_made_plus_total(team_a_corner_3s)\n",
    "team_a_corner_3s_efper = calculate_eFG(team_a_corner_3s_made,team_a_corner_3s_made,team_a_corner_3s_total)\n",
    "\n",
    "team_b_corner_3s = calculate_corner_threes(team_b_fgs)\n",
    "team_b_corner_3s_total, team_b_corner_3s_made = calculate_made_plus_total(team_b_corner_3s)\n",
    "team_b_corner_3s_efper = calculate_eFG(team_b_corner_3s_made,team_b_corner_3s_made,team_b_corner_3s_total)"
   ]
  },
  {
   "cell_type": "code",
   "execution_count": 57,
   "metadata": {},
   "outputs": [],
   "source": [
    "#calculate each team's corner three fg%\n",
    "team_a_corner_3s_fgper = calculate_fgper(team_a_corner_3s_made,team_a_corner_3s_total)\n",
    "team_b_corner_3s_fgper = calculate_fgper(team_b_corner_3s_made,team_b_corner_3s_total)"
   ]
  },
  {
   "cell_type": "code",
   "execution_count": 59,
   "metadata": {},
   "outputs": [],
   "source": [
    "#calculate each team's non-noncorner three efg%\n",
    "team_a_noncorner_3s = calculate_noncorner_threes(team_a_fgs)\n",
    "team_a_noncorner_3s_total, team_a_noncorner_3s_made = calculate_made_plus_total(team_a_noncorner_3s)\n",
    "team_a_noncorner_3s_efper = calculate_eFG(team_a_noncorner_3s_made,team_a_noncorner_3s_made,team_a_noncorner_3s_total)\n",
    "\n",
    "team_b_noncorner_3s = calculate_noncorner_threes(team_b_fgs)\n",
    "team_b_noncorner_3s_total, team_b_noncorner_3s_made = calculate_made_plus_total(team_b_noncorner_3s)\n",
    "team_b_noncorner_3s_efper = calculate_eFG(team_b_noncorner_3s_made,team_b_noncorner_3s_made,team_b_noncorner_3s_total)"
   ]
  },
  {
   "cell_type": "code",
   "execution_count": 60,
   "metadata": {},
   "outputs": [],
   "source": [
    "#calculate each team's non-corner three fg%\n",
    "team_a_noncorner_3s_fgper = calculate_fgper(team_a_noncorner_3s_made,team_a_noncorner_3s_total)\n",
    "team_b_noncorner_3s_fgper = calculate_fgper(team_b_noncorner_3s_made,team_b_noncorner_3s_total)"
   ]
  },
  {
   "cell_type": "code",
   "execution_count": 62,
   "metadata": {},
   "outputs": [],
   "source": [
    "#calculate each team's 2 pointer efg%\n",
    "team_a_2ptrs = calculate_two_pointers(team_a_fgs)\n",
    "team_a_2ptrs_total, team_a_2ptrs_made = calculate_made_plus_total(team_a_2ptrs)\n",
    "team_a_2ptrs_efper = calculate_eFG(team_a_2ptrs_made,0,team_a_2ptrs_total)\n",
    "\n",
    "team_b_2ptrs = calculate_two_pointers(team_b_fgs)\n",
    "team_b_2ptrs_total, team_b_2ptrs_made = calculate_made_plus_total(team_b_2ptrs)\n",
    "team_b_2ptrs_efper = calculate_eFG(team_b_2ptrs_made,0,team_b_2ptrs_total)\n"
   ]
  },
  {
   "cell_type": "code",
   "execution_count": 63,
   "metadata": {},
   "outputs": [],
   "source": [
    "#calculate each team's 2 pointer fg%\n",
    "team_a_2ptrs_fgper = calculate_fgper(team_a_2ptrs_made,team_a_2ptrs_total)\n",
    "team_b_2ptrs_fgper = calculate_fgper(team_b_2ptrs_made,team_b_2ptrs_total)"
   ]
  },
  {
   "cell_type": "code",
   "execution_count": 64,
   "metadata": {},
   "outputs": [],
   "source": [
    "import matplotlib.pyplot as plt\n",
    "def generate_plots(team_a_efper,team_b_efper,xlabel,ylabel,title,color):\n",
    "    # Dataset generation\n",
    "    data_dict = {'Team A':team_a_efper, 'Team B':team_b_efper}\n",
    "    teams = list(data_dict.keys())\n",
    "    values = list(data_dict.values())\n",
    "    fig = plt.figure(figsize = (10, 5))\n",
    "\n",
    "    # Add labels and title\n",
    "    plt.xlabel(xlabel)\n",
    "    plt.ylabel(ylabel)\n",
    "    plt.title(title)\n",
    "\n",
    "    #create bars and put both team's ef% in a list for looping\n",
    "    bars = plt.bar(teams, values, color =color,width = 0.5)\n",
    "    efpers = [team_a_efper,team_b_efper]\n",
    "    \n",
    "    # access the bar attributes to place the text in the appropriate location\n",
    "    for bar,efper in zip(bars,efpers):\n",
    "        yval = bar.get_height()\n",
    "        plt.text(bar.get_x()+.20, yval + .01, str(efper) + \"%\")"
   ]
  },
  {
   "cell_type": "code",
   "execution_count": 65,
   "metadata": {},
   "outputs": [
    {
     "data": {
      "image/png": "[encoded data removed]",
      "text/plain": [
       "<Figure size 720x360 with 1 Axes>"
      ]
     },
     "metadata": {
      "needs_background": "light"
     },
     "output_type": "display_data"
    }
   ],
   "source": [
    "#plot teams fg% from two pointer (we expect this to be the same as eFG%)\n",
    "generate_plots(team_a_2ptrs_fgper,team_b_2ptrs_fgper,\"Teams two pointers fg%\",\"fg% (FGM/FGA) *100\",\"Two Pointers FG%\",\"orange\")"
   ]
  },
  {
   "cell_type": "code",
   "execution_count": 66,
   "metadata": {},
   "outputs": [
    {
     "data": {
      "image/png": "[encoded data removed]",
      "text/plain": [
       "<Figure size 720x360 with 1 Axes>"
      ]
     },
     "metadata": {
      "needs_background": "light"
     },
     "output_type": "display_data"
    }
   ],
   "source": [
    "#plot teams eFG% for two pointers\n",
    "generate_plots(team_a_2ptrs_efper,team_b_2ptrs_efper,\"Teams two pointers efg%\",\"Efg% ((FGM +(0.5 *3pt))/FGA))\",\"Two Pointers eFG%\",\"orange\")"
   ]
  },
  {
   "cell_type": "code",
   "execution_count": 67,
   "metadata": {},
   "outputs": [
    {
     "data": {
      "image/png": "[encoded data removed]",
      "text/plain": [
       "<Figure size 720x360 with 1 Axes>"
      ]
     },
     "metadata": {
      "needs_background": "light"
     },
     "output_type": "display_data"
    }
   ],
   "source": [
    "#plot teams FG% for corner threes pointers\n",
    "generate_plots(team_a_corner_3s_fgper,team_b_corner_3s_fgper,\"Teams corner 3 pointers fg%\",\"fg% (FGM/FGA) *100\",\"Corner Threes Pointers FG%\",\"blue\")"
   ]
  },
  {
   "cell_type": "code",
   "execution_count": 68,
   "metadata": {},
   "outputs": [
    {
     "data": {
      "image/png": "[encoded data removed]",
      "text/plain": [
       "<Figure size 720x360 with 1 Axes>"
      ]
     },
     "metadata": {
      "needs_background": "light"
     },
     "output_type": "display_data"
    }
   ],
   "source": [
    "#plot teams eFG% for corner threes pointers\n",
    "generate_plots(team_a_corner_3s_efper,team_b_corner_3s_efper,\"Teams corner 3 pointers efg%\",\"Efg% ((FGM +(0.5 *3pt))/FGA))\",\"Corner Threes Pointers eFG%\",\"blue\")"
   ]
  },
  {
   "cell_type": "code",
   "execution_count": 69,
   "metadata": {},
   "outputs": [
    {
     "data": {
      "image/png": "[encoded data removed]",
      "text/plain": [
       "<Figure size 720x360 with 1 Axes>"
      ]
     },
     "metadata": {
      "needs_background": "light"
     },
     "output_type": "display_data"
    }
   ],
   "source": [
    "#plot teams FG% for noncorner threes pointers\n",
    "generate_plots(team_a_noncorner_3s_fgper,team_b_noncorner_3s_fgper,\"Teams non-corner 3 pointers fg%\",\"fg% (FGM/FGA) *100\",\"Non-corner Threes Pointers FG%\",\"blue\")"
   ]
  },
  {
   "cell_type": "code",
   "execution_count": 70,
   "metadata": {},
   "outputs": [
    {
     "data": {
      "image/png": "[encoded data removed]",
      "text/plain": [
       "<Figure size 720x360 with 1 Axes>"
      ]
     },
     "metadata": {
      "needs_background": "light"
     },
     "output_type": "display_data"
    }
   ],
   "source": [
    "#plot teams eFG% for noncorner threes pointers\n",
    "generate_plots(team_a_noncorner_3s_efper,team_b_noncorner_3s_efper,\"Teams non-corner 3 pointers efg%\",\"Efg% ((FGM +(0.5 *3pt))/FGA))\",\"Non-corner Threes Pointers eFG%\",\"orange\")"
   ]
  },
  {
   "cell_type": "code",
   "execution_count": 71,
   "metadata": {},
   "outputs": [
    {
     "name": "stdout",
     "output_type": "stream",
     "text": [
      "280 280\n",
      "280 280\n"
     ]
    }
   ],
   "source": [
    "print(team_a_2ptrs.shape[0]+team_a_corner_3s.shape[0]+team_a_noncorner_3s.shape[0],team_a_fgs.shape[0])\n",
    "print(team_b_2ptrs.shape[0]+team_b_corner_3s.shape[0]+team_b_noncorner_3s.shape[0],team_b_fgs.shape[0])"
   ]
  },
  {
   "cell_type": "code",
   "execution_count": 72,
   "metadata": {},
   "outputs": [
    {
     "name": "stdout",
     "output_type": "stream",
     "text": [
      "       team     x     y  fgmade   x_sqd   y_sqd       dist\n",
      "2    Team A   0.5   1.0       1    0.25    1.00   1.118034\n",
      "3    Team A  -5.6   5.2       0   31.36   27.04   7.641989\n",
      "4    Team A   4.0  14.5       1   16.00  210.25  15.041609\n",
      "5    Team A -13.6   4.0       1  184.96   16.00  14.176036\n",
      "6    Team A  -9.0   7.2       1   81.00   51.84  11.525624\n",
      "7    Team A  -1.2   1.5       1    1.44    2.25   1.920937\n",
      "8    Team A  -9.2  15.3       0   84.64  234.09  17.853011\n",
      "10   Team A   0.8   1.8       1    0.64    3.24   1.969772\n",
      "12   Team A -13.9   2.1       0  193.21    4.41  14.057738\n",
      "13   Team A  -0.7   1.6       1    0.49    2.56   1.746425\n",
      "14   Team A  11.2  10.3       0  125.44  106.09  15.216110\n",
      "15   Team A   0.6   0.9       1    0.36    0.81   1.081665\n",
      "16   Team A -13.6  10.1       1  184.96  102.01  16.940189\n",
      "19   Team A  21.7   0.6       0  470.89    0.36  21.708293\n",
      "20   Team A  19.2   5.3       0  368.64   28.09  19.918082\n",
      "23   Team A  11.3  -0.5       0  127.69    0.25  11.311057\n",
      "26   Team A  10.3   6.1       0  106.09   37.21  11.970798\n",
      "28   Team A  -0.5   2.6       1    0.25    6.76   2.647640\n",
      "29   Team A   0.0  -0.5       0    0.00    0.25   0.500000\n",
      "31   Team A   1.4   0.9       0    1.96    0.81   1.664332\n",
      "32   Team A   1.9   2.9       0    3.61    8.41   3.466987\n",
      "33   Team A   1.9   0.5       1    3.61    0.25   1.964688\n",
      "34   Team A -11.7  12.1       0  136.89  146.41  16.831518\n",
      "35   Team A  -5.1   8.4       0   26.01   70.56   9.827004\n",
      "36   Team A   4.1   8.3       0   16.81   68.89   9.257429\n",
      "37   Team A   0.8   0.7       1    0.64    0.49   1.063015\n",
      "38   Team A  -0.2   1.7       0    0.04    2.89   1.711724\n",
      "39   Team A   4.4   4.6       1   19.36   21.16   6.365532\n",
      "40   Team A   0.7   6.6       0    0.49   43.56   6.637017\n",
      "41   Team A   5.1   3.1       1   26.01    9.61   5.968249\n",
      "42   Team A   1.8   1.7       0    3.24    2.89   2.475884\n",
      "43   Team A   3.6   5.0       0   12.96   25.00   6.161169\n",
      "45   Team A  -1.4   1.2       0    1.96    1.44   1.843909\n",
      "49   Team A   0.8   1.2       0    0.64    1.44   1.442221\n",
      "52   Team A   1.1   1.2       1    1.21    1.44   1.627882\n",
      "54   Team A -13.8  14.8       1  190.44  219.04  20.235612\n",
      "56   Team A  -1.1   2.8       0    1.21    7.84   3.008322\n",
      "57   Team A  19.0   3.8       0  361.00   14.44  19.376274\n",
      "58   Team A  -0.9   2.0       1    0.81    4.00   2.193171\n",
      "61   Team A  -1.8  12.6       1    3.24  158.76  12.727922\n",
      "62   Team A -14.9   4.5       0  222.01   20.25  15.564704\n",
      "63   Team A  -8.2  15.8       1   67.24  249.64  17.801124\n",
      "64   Team A  18.7   2.1       1  349.69    4.41  18.817545\n",
      "65   Team A  12.0  16.3       1  144.00  265.69  20.240800\n",
      "66   Team A  -4.0  18.9       0   16.00  357.21  19.318644\n",
      "67   Team A   9.8   6.0       0   96.04   36.00  11.490866\n",
      "68   Team A  13.6   2.7       1  184.96    7.29  13.865425\n",
      "69   Team A   4.0  10.1       1   16.00  102.01  10.863241\n",
      "71   Team A  -8.1  18.1       0   65.61  327.61  19.829776\n",
      "73   Team A -13.5  11.9       0  182.25  141.61  17.996111\n",
      "75   Team A  13.5   5.4       0  182.25   29.16  14.539945\n",
      "82   Team A   3.0   1.0       0    9.00    1.00   3.162278\n",
      "84   Team A  -1.0   2.0       0    1.00    4.00   2.236068\n",
      "87   Team A   0.2  -0.1       1    0.04    0.01   0.223607\n",
      "90   Team A   2.1   0.5       0    4.41    0.25   2.158703\n",
      "95   Team A  -1.2  17.8       0    1.44  316.84  17.840404\n",
      "97   Team A   0.3   2.9       0    0.09    8.41   2.915476\n",
      "98   Team A  -3.9  21.3       1   15.21  453.69  21.654099\n",
      "99   Team A   2.3   2.3       0    5.29    5.29   3.252691\n",
      "100  Team A   4.9  13.0       0   24.01  169.00  13.892804\n",
      "101  Team A   2.0   1.5       0    4.00    2.25   2.500000\n",
      "102  Team A   2.6   7.5       0    6.76   56.25   7.937884\n",
      "103  Team A   0.0  -0.5       0    0.00    0.25   0.500000\n",
      "106  Team A   1.8   1.6       0    3.24    2.56   2.408319\n",
      "107  Team A   2.5   2.1       1    6.25    4.41   3.264966\n",
      "109  Team A   1.4   1.6       1    1.96    2.56   2.126029\n",
      "113  Team A  -7.4   6.1       1   54.76   37.21   9.590099\n",
      "114  Team A   2.5   1.6       0    6.25    2.56   2.968164\n",
      "115  Team A -10.0  15.1       0  100.00  228.01  18.111046\n",
      "116  Team A   0.6   3.5       0    0.36   12.25   3.551056\n",
      "117  Team A   5.0   4.6       0   25.00   21.16   6.794115\n",
      "118  Team A   1.6   1.5       0    2.56    2.25   2.193171\n",
      "119  Team A   0.9   5.2       0    0.81   27.04   5.277310\n",
      "120  Team A   2.0   1.9       1    4.00    3.61   2.758623\n",
      "121  Team A  -0.3   2.5       1    0.09    6.25   2.517936\n",
      "122  Team A -19.5   5.7       0  380.25   32.49  20.316004\n",
      "123  Team A -11.3  13.9       0  127.69  193.21  17.913682\n",
      "124  Team A   3.0   1.9       0    9.00    3.61   3.551056\n",
      "125  Team A   2.4   1.2       1    5.76    1.44   2.683282\n",
      "126  Team A   3.7   1.4       0   13.69    1.96   3.956008\n",
      "127  Team A  -1.8   0.5       1    3.24    0.25   1.868154\n",
      "128  Team A   1.5   3.2       0    2.25   10.24   3.534119\n",
      "129  Team A   1.4   2.6       0    1.96    6.76   2.952965\n",
      "132  Team A -16.6   9.6       1  275.56   92.16  19.176027\n",
      "133  Team A   0.2   1.7       0    0.04    2.89   1.711724\n",
      "136  Team A  -0.5   1.5       1    0.25    2.25   1.581139\n",
      "138  Team A  16.1   3.7       1  259.21   13.69  16.519685\n",
      "139  Team A -13.2   2.0       1  174.24    4.00  13.350655\n",
      "140  Team A   7.0   0.8       0   49.00    0.64   7.045566\n",
      "142  Team A   0.0  -0.5       1    0.00    0.25   0.500000\n",
      "144  Team A   8.4  13.3       0   70.56  176.89  15.730544\n",
      "145  Team A  -2.2   0.9       1    4.84    0.81   2.376973\n",
      "146  Team A   7.2   5.2       0   51.84   27.04   8.881441\n",
      "148  Team A -15.8   8.9       1  249.64   79.21  18.134222\n",
      "149  Team A   7.4  18.9       1   54.76  357.21  20.297044\n",
      "150  Team A -11.2  15.2       0  125.44  231.04  18.880678\n",
      "152  Team A  -1.8   3.2       0    3.24   10.24   3.671512\n",
      "153  Team A  -4.0   9.4       1   16.00   88.36  10.215674\n",
      "155  Team A  16.5   6.2       0  272.25   38.44  17.626401\n",
      "157  Team A   1.4   0.8       1    1.96    0.64   1.612452\n",
      "159  Team A   2.5  -0.6       1    6.25    0.36   2.570992\n",
      "160  Team A  -0.9   0.4       1    0.81    0.16   0.984886\n",
      "161  Team A  -3.9   7.9       0   15.21   62.41   8.810221\n",
      "162  Team A   2.1   0.5       0    4.41    0.25   2.158703\n",
      "164  Team A  -1.9   0.8       1    3.61    0.64   2.061553\n",
      "166  Team A  12.8   5.1       0  163.84   26.01  13.778607\n",
      "167  Team A  10.4   4.4       0  108.16   19.36  11.292475\n",
      "168  Team A  -3.6   1.5       0   12.96    2.25   3.900000\n",
      "170  Team A  -0.2   1.4       1    0.04    1.96   1.414214\n",
      "172  Team A   3.3   2.6       0   10.89    6.76   4.201190\n",
      "173  Team A  -5.6   4.1       0   31.36   16.81   6.940461\n",
      "174  Team A  -4.2  10.9       0   17.64  118.81  11.681181\n",
      "175  Team A  -0.8   8.9       1    0.64   79.21   8.935883\n",
      "176  Team A   7.4   5.0       0   54.76   25.00   8.930845\n",
      "177  Team A  -1.6   2.4       1    2.56    5.76   2.884441\n",
      "178  Team A   2.5   1.5       1    6.25    2.25   2.915476\n",
      "179  Team A  -8.1   7.6       1   65.61   57.76  11.107205\n",
      "180  Team A   7.1  10.6       0   50.41  112.36  12.758135\n",
      "181  Team A   1.8   2.4       0    3.24    5.76   3.000000\n",
      "182  Team A  -0.3   2.9       1    0.09    8.41   2.915476\n",
      "183  Team A   0.0  -0.5       1    0.00    0.25   0.500000\n",
      "184  Team A  -2.3   3.5       0    5.29   12.25   4.188078\n",
      "186  Team A   3.6   3.9       0   12.96   15.21   5.307542\n",
      "188  Team A -10.1   0.9       0  102.01    0.81  10.140020\n",
      "189  Team A -19.4   5.2       0  376.36   27.04  20.084820\n",
      "190  Team A   3.0  18.2       0    9.00  331.24  18.445596\n",
      "193  Team A  19.1  12.7       0  364.81  161.29  22.936870\n",
      "194  Team A   4.7   4.6       0   22.09   21.16   6.576473\n",
      "196  Team A   5.5  20.7       0   30.25  428.49  21.418217\n",
      "201  Team A   0.0  -0.5       1    0.00    0.25   0.500000\n",
      "203  Team A   1.0   1.5       0    1.00    2.25   1.802776\n",
      "207  Team A   6.1  15.1       0   37.21  228.01  16.285576\n",
      "209  Team A  -9.8   1.9       0   96.04    3.61   9.982485\n",
      "210  Team A   2.7   1.8       0    7.29    3.24   3.244996\n",
      "211  Team A   1.3  14.0       0    1.69  196.00  14.060228\n",
      "212  Team A   0.9   1.2       0    0.81    1.44   1.500000\n",
      "213  Team A   3.0   8.6       0    9.00   73.96   9.108238\n",
      "214  Team A  -0.2   4.7       0    0.04   22.09   4.704253\n",
      "215  Team A  17.6  12.4       0  309.76  153.76  21.529515\n",
      "216  Team A  -1.9  15.0       0    3.61  225.00  15.119854\n",
      "217  Team A -17.7   1.0       0  313.29    1.00  17.728226\n",
      "218  Team A  -0.1  16.1       1    0.01  259.21  16.100311\n",
      "221  Team A  -0.4   3.9       0    0.16   15.21   3.920459\n",
      "224  Team A   7.3  19.2       1   53.29  368.64  20.540935\n",
      "227  Team A  -9.3  19.4       0   86.49  376.36  21.513949\n",
      "231  Team A -15.1  15.0       0  228.01  225.00  21.284032\n",
      "237  Team A   0.9   0.3       1    0.81    0.09   0.948683\n",
      "243  Team A  -6.0   8.0       1   36.00   64.00  10.000000\n",
      "244  Team A   6.5  14.0       1   42.25  196.00  15.435349\n",
      "246  Team A  -0.6   1.9       0    0.36    3.61   1.992486\n",
      "247  Team A  -4.9   6.9       1   24.01   47.61   8.462860\n",
      "248  Team A   0.2   0.3       1    0.04    0.09   0.360555\n",
      "249  Team A  -0.3  20.7       0    0.09  428.49  20.702174\n",
      "250  Team A   0.0   6.8       1    0.00   46.24   6.800000\n",
      "251  Team A  -4.5  19.5       1   20.25  380.25  20.012496\n",
      "252  Team A   2.9  20.6       0    8.41  424.36  20.803125\n",
      "253  Team A  -0.3   1.0       1    0.09    1.00   1.044031\n",
      "254  Team A   6.5  13.3       0   42.25  176.89  14.803378\n",
      "258  Team A  -3.0   1.3       0    9.00    1.69   3.269557\n",
      "261  Team A   4.1  14.1       0   16.81  198.81  14.684005\n",
      "262  Team A -12.3  16.6       1  151.29  275.56  20.660348\n",
      "264  Team A  -5.4   7.3       0   29.16   53.29   9.080198\n",
      "265  Team A -10.3   6.8       1  106.09   46.24  12.342204\n",
      "267  Team A   2.1   1.6       0    4.41    2.56   2.640076\n",
      "269  Team A  -9.5  14.3       0   90.25  204.49  17.167993\n",
      "270  Team A  -0.9   1.2       1    0.81    1.44   1.500000\n",
      "271  Team A   1.6  13.9       0    2.56  193.21  13.991783\n",
      "277  Team A  -8.0   2.6       1   64.00    6.76   8.411896\n",
      "278  Team A  -7.6   1.7       0   57.76    2.89   7.787811\n",
      "279  Team A  -5.5   6.2       1   30.25   38.44   8.287943\n"
     ]
    }
   ],
   "source": [
    "with pd.option_context('display.max_rows', None, 'display.max_columns', None):  # more options can be specified also\n",
    "    print(team_a_2ptrs)"
   ]
  }
 ],
 "metadata": {
  "interpreter": {
   "hash": "ab7fd61304cff03478ff281d53493b9eedaa703c98769065bf31f01b757ecf68"
  },
  "kernelspec": {
   "display_name": "Python 3.8.8 64-bit ('base': conda)",
   "name": "python3"
  },
  "language_info": {
   "codemirror_mode": {
    "name": "ipython",
    "version": 3
   },
   "file_extension": ".py",
   "mimetype": "text/x-python",
   "name": "python",
   "nbconvert_exporter": "python",
   "pygments_lexer": "ipython3",
   "version": "3.8.8"
  },
  "orig_nbformat": 4
 },
 "nbformat": 4,
 "nbformat_minor": 2
}
